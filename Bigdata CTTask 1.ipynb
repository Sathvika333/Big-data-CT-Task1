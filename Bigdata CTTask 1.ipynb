{
 "cells": [
  {
   "cell_type": "code",
   "execution_count": 4,
   "id": "85f0167f",
   "metadata": {},
   "outputs": [],
   "source": [
    "from pyspark.sql import SparkSession\n",
    "from pyspark.sql.functions import col, sum, count, when, isnan, desc"
   ]
  },
  {
   "cell_type": "code",
   "execution_count": 5,
   "id": "bae20e42",
   "metadata": {},
   "outputs": [],
   "source": [
    "spark = SparkSession.builder \\\n",
    "    .appName(\"Big Data EDA with PySpark\") \\\n",
    "    .getOrCreate()\n"
   ]
  },
  {
   "cell_type": "code",
   "execution_count": 6,
   "id": "ddad8ac1",
   "metadata": {},
   "outputs": [
    {
     "name": "stdout",
     "output_type": "stream",
     "text": [
      "root\n",
      " |-- age: integer (nullable = true)\n",
      " |-- job: string (nullable = true)\n",
      " |-- marital: string (nullable = true)\n",
      " |-- education: string (nullable = true)\n",
      " |-- default: string (nullable = true)\n",
      " |-- balance: integer (nullable = true)\n",
      " |-- housing: string (nullable = true)\n",
      " |-- loan: string (nullable = true)\n",
      " |-- contact: string (nullable = true)\n",
      " |-- day: integer (nullable = true)\n",
      " |-- month: string (nullable = true)\n",
      " |-- duration: integer (nullable = true)\n",
      " |-- campaign: integer (nullable = true)\n",
      " |-- pdays: integer (nullable = true)\n",
      " |-- previous: integer (nullable = true)\n",
      " |-- poutcome: string (nullable = true)\n",
      " |-- y: string (nullable = true)\n",
      "\n"
     ]
    }
   ],
   "source": [
    "df = spark.read.csv(\"bank-full.csv\", header=True, inferSchema=True)\n",
    "df.printSchema()\n"
   ]
  },
  {
   "cell_type": "code",
   "execution_count": 7,
   "id": "c49c8cf1",
   "metadata": {},
   "outputs": [
    {
     "name": "stdout",
     "output_type": "stream",
     "text": [
      "+---+------------+-------+---------+-------+-------+-------+----+-------+---+-----+--------+--------+-----+--------+--------+---+\n",
      "|age|         job|marital|education|default|balance|housing|loan|contact|day|month|duration|campaign|pdays|previous|poutcome|  y|\n",
      "+---+------------+-------+---------+-------+-------+-------+----+-------+---+-----+--------+--------+-----+--------+--------+---+\n",
      "| 58|  management|married| tertiary|     no|   2143|    yes|  no|unknown|  5|  may|     261|       1|   -1|       0| unknown| no|\n",
      "| 44|  technician| single|secondary|     no|     29|    yes|  no|unknown|  5|  may|     151|       1|   -1|       0| unknown| no|\n",
      "| 33|entrepreneur|married|secondary|     no|      2|    yes| yes|unknown|  5|  may|      76|       1|   -1|       0| unknown| no|\n",
      "| 47| blue-collar|married|  unknown|     no|   1506|    yes|  no|unknown|  5|  may|      92|       1|   -1|       0| unknown| no|\n",
      "| 33|     unknown| single|  unknown|     no|      1|     no|  no|unknown|  5|  may|     198|       1|   -1|       0| unknown| no|\n",
      "+---+------------+-------+---------+-------+-------+-------+----+-------+---+-----+--------+--------+-----+--------+--------+---+\n",
      "only showing top 5 rows\n",
      "\n"
     ]
    }
   ],
   "source": [
    "df.show(5)\n"
   ]
  },
  {
   "cell_type": "code",
   "execution_count": 8,
   "id": "2f900c1d",
   "metadata": {},
   "outputs": [
    {
     "name": "stdout",
     "output_type": "stream",
     "text": [
      "+-------+------------------+-------+--------+---------+-------+------------------+-------+-----+--------+-----------------+-----+-----------------+-----------------+------------------+------------------+--------+-----+\n",
      "|summary|               age|    job| marital|education|default|           balance|housing| loan| contact|              day|month|         duration|         campaign|             pdays|          previous|poutcome|    y|\n",
      "+-------+------------------+-------+--------+---------+-------+------------------+-------+-----+--------+-----------------+-----+-----------------+-----------------+------------------+------------------+--------+-----+\n",
      "|  count|             45211|  45211|   45211|    45211|  45211|             45211|  45211|45211|   45211|            45211|45211|            45211|            45211|             45211|             45211|   45211|45211|\n",
      "|   mean| 40.93621021432837|   NULL|    NULL|     NULL|   NULL|1362.2720576850766|   NULL| NULL|    NULL|15.80641879188693| NULL|258.1630797814691|2.763840658246887| 40.19782796222158|0.5803233726305546|    NULL| NULL|\n",
      "| stddev|10.618762040975405|   NULL|    NULL|     NULL|   NULL|3044.7658291685257|   NULL| NULL|    NULL|8.322476153044594| NULL|257.5278122651706|3.098020883279192|100.12874599059828| 2.303441044931218|    NULL| NULL|\n",
      "|    min|                18| admin.|divorced|  primary|     no|             -8019|     no|   no|cellular|                1|  apr|                0|                1|                -1|                 0| failure|   no|\n",
      "|    max|                95|unknown|  single|  unknown|    yes|            102127|    yes|  yes| unknown|               31|  sep|             4918|               63|               871|               275| unknown|  yes|\n",
      "+-------+------------------+-------+--------+---------+-------+------------------+-------+-----+--------+-----------------+-----+-----------------+-----------------+------------------+------------------+--------+-----+\n",
      "\n",
      "Total Rows: 45211\n"
     ]
    }
   ],
   "source": [
    "df.describe().show()\n",
    "print(\"Total Rows:\", df.count())\n"
   ]
  },
  {
   "cell_type": "code",
   "execution_count": 9,
   "id": "89b0c00c",
   "metadata": {},
   "outputs": [
    {
     "name": "stdout",
     "output_type": "stream",
     "text": [
      "age has 77 unique values.\n",
      "job has 12 unique values.\n",
      "marital has 3 unique values.\n",
      "education has 4 unique values.\n",
      "default has 2 unique values.\n",
      "balance has 7168 unique values.\n",
      "housing has 2 unique values.\n",
      "loan has 2 unique values.\n",
      "contact has 3 unique values.\n",
      "day has 31 unique values.\n",
      "month has 12 unique values.\n",
      "duration has 1573 unique values.\n",
      "campaign has 48 unique values.\n",
      "pdays has 559 unique values.\n",
      "previous has 41 unique values.\n",
      "poutcome has 4 unique values.\n",
      "y has 2 unique values.\n"
     ]
    }
   ],
   "source": [
    "from pyspark.sql.functions import countDistinct\n",
    "\n",
    "for column in df.columns:\n",
    "    distinct_count = df.select(countDistinct(column)).collect()[0][0]\n",
    "    print(f\"{column} has {distinct_count} unique values.\")\n"
   ]
  },
  {
   "cell_type": "code",
   "execution_count": 15,
   "id": "25f1075d",
   "metadata": {},
   "outputs": [
    {
     "name": "stdout",
     "output_type": "stream",
     "text": [
      "Most frequent age of customers who subscribe to the term deposit:\n",
      "+---+-----+\n",
      "|age|count|\n",
      "+---+-----+\n",
      "| 32|  221|\n",
      "+---+-----+\n",
      "\n"
     ]
    }
   ],
   "source": [
    "from pyspark.sql.functions import col\n",
    "\n",
    "# First, filter the dataframe where y == 'yes'\n",
    "yes_df = df.filter(col(\"y\") == \"yes\")\n",
    "\n",
    "print(\"Most frequent age of customers who subscribe to the term deposit:\")\n",
    "\n",
    "# Find the most frequent age among 'yes' customers\n",
    "most_frequent_age = (\n",
    "    yes_df.groupBy(\"age\")\n",
    "    .count()\n",
    "    .orderBy(col(\"count\").desc())\n",
    "    .limit(1)\n",
    ")\n",
    "\n",
    "most_frequent_age.show()\n"
   ]
  },
  {
   "cell_type": "code",
   "execution_count": 10,
   "id": "8cba6320",
   "metadata": {},
   "outputs": [
    {
     "name": "stdout",
     "output_type": "stream",
     "text": [
      "Most frequent value for age:\n",
      "+---+-----+\n",
      "|age|count|\n",
      "+---+-----+\n",
      "| 32| 2085|\n",
      "+---+-----+\n",
      "only showing top 1 row\n",
      "\n",
      "Most frequent value for job:\n",
      "+-----------+-----+\n",
      "|        job|count|\n",
      "+-----------+-----+\n",
      "|blue-collar| 9732|\n",
      "+-----------+-----+\n",
      "only showing top 1 row\n",
      "\n",
      "Most frequent value for marital:\n",
      "+-------+-----+\n",
      "|marital|count|\n",
      "+-------+-----+\n",
      "|married|27214|\n",
      "+-------+-----+\n",
      "only showing top 1 row\n",
      "\n",
      "Most frequent value for education:\n",
      "+---------+-----+\n",
      "|education|count|\n",
      "+---------+-----+\n",
      "|secondary|23202|\n",
      "+---------+-----+\n",
      "only showing top 1 row\n",
      "\n",
      "Most frequent value for default:\n",
      "+-------+-----+\n",
      "|default|count|\n",
      "+-------+-----+\n",
      "|     no|44396|\n",
      "+-------+-----+\n",
      "only showing top 1 row\n",
      "\n",
      "Most frequent value for balance:\n",
      "+-------+-----+\n",
      "|balance|count|\n",
      "+-------+-----+\n",
      "|      0| 3514|\n",
      "+-------+-----+\n",
      "only showing top 1 row\n",
      "\n",
      "Most frequent value for housing:\n",
      "+-------+-----+\n",
      "|housing|count|\n",
      "+-------+-----+\n",
      "|    yes|25130|\n",
      "+-------+-----+\n",
      "only showing top 1 row\n",
      "\n",
      "Most frequent value for loan:\n",
      "+----+-----+\n",
      "|loan|count|\n",
      "+----+-----+\n",
      "|  no|37967|\n",
      "+----+-----+\n",
      "only showing top 1 row\n",
      "\n",
      "Most frequent value for contact:\n",
      "+--------+-----+\n",
      "| contact|count|\n",
      "+--------+-----+\n",
      "|cellular|29285|\n",
      "+--------+-----+\n",
      "only showing top 1 row\n",
      "\n",
      "Most frequent value for day:\n",
      "+---+-----+\n",
      "|day|count|\n",
      "+---+-----+\n",
      "| 20| 2752|\n",
      "+---+-----+\n",
      "only showing top 1 row\n",
      "\n",
      "Most frequent value for month:\n",
      "+-----+-----+\n",
      "|month|count|\n",
      "+-----+-----+\n",
      "|  may|13766|\n",
      "+-----+-----+\n",
      "only showing top 1 row\n",
      "\n",
      "Most frequent value for duration:\n",
      "+--------+-----+\n",
      "|duration|count|\n",
      "+--------+-----+\n",
      "|     124|  188|\n",
      "+--------+-----+\n",
      "only showing top 1 row\n",
      "\n",
      "Most frequent value for campaign:\n",
      "+--------+-----+\n",
      "|campaign|count|\n",
      "+--------+-----+\n",
      "|       1|17544|\n",
      "+--------+-----+\n",
      "only showing top 1 row\n",
      "\n",
      "Most frequent value for pdays:\n",
      "+-----+-----+\n",
      "|pdays|count|\n",
      "+-----+-----+\n",
      "|   -1|36954|\n",
      "+-----+-----+\n",
      "only showing top 1 row\n",
      "\n",
      "Most frequent value for previous:\n",
      "+--------+-----+\n",
      "|previous|count|\n",
      "+--------+-----+\n",
      "|       0|36954|\n",
      "+--------+-----+\n",
      "only showing top 1 row\n",
      "\n",
      "Most frequent value for poutcome:\n",
      "+--------+-----+\n",
      "|poutcome|count|\n",
      "+--------+-----+\n",
      "| unknown|36959|\n",
      "+--------+-----+\n",
      "only showing top 1 row\n",
      "\n",
      "Most frequent value for y:\n",
      "+---+-----+\n",
      "|  y|count|\n",
      "+---+-----+\n",
      "| no|39922|\n",
      "+---+-----+\n",
      "only showing top 1 row\n",
      "\n"
     ]
    }
   ],
   "source": [
    "from pyspark.sql.functions import col\n",
    "\n",
    "for column in df.columns:\n",
    "    print(f\"Most frequent value for {column}:\")\n",
    "    df.groupBy(column).count().orderBy(\"count\", ascending=False).show(1)\n"
   ]
  },
  {
   "cell_type": "code",
   "execution_count": 11,
   "id": "f2f45e5c",
   "metadata": {},
   "outputs": [
    {
     "name": "stdout",
     "output_type": "stream",
     "text": [
      "+---+------------+-------+\n",
      "|age|         job|balance|\n",
      "+---+------------+-------+\n",
      "| 51|  management|  10635|\n",
      "| 35| blue-collar|  12223|\n",
      "| 45|  management|  24598|\n",
      "| 39|  technician|  45248|\n",
      "| 44|      admin.|  58544|\n",
      "| 34|entrepreneur|  10350|\n",
      "| 55|     retired|  18722|\n",
      "| 26|  technician|  24299|\n",
      "| 59|  management|  13308|\n",
      "| 28|  technician|  26765|\n",
      "| 51|  technician|  12061|\n",
      "| 49|  management|  12482|\n",
      "| 44|    services|  29312|\n",
      "| 45|  management|  37378|\n",
      "| 37| blue-collar|  15801|\n",
      "| 55|  management|  23189|\n",
      "| 49| blue-collar|  11317|\n",
      "| 48|  management|  20718|\n",
      "| 53|    services|  10749|\n",
      "| 32|  technician|  10600|\n",
      "+---+------------+-------+\n",
      "only showing top 20 rows\n",
      "\n"
     ]
    }
   ],
   "source": [
    "df.filter(df[\"balance\"] > 10000).select(\"age\", \"job\", \"balance\").show()"
   ]
  },
  {
   "cell_type": "code",
   "execution_count": 18,
   "id": "731df730",
   "metadata": {},
   "outputs": [
    {
     "name": "stdout",
     "output_type": "stream",
     "text": [
      "+-------+-----------------+\n",
      "|balance|blc more than 500|\n",
      "+-------+-----------------+\n",
      "|   2143|                1|\n",
      "|     29|                0|\n",
      "|      2|                0|\n",
      "|   1506|                1|\n",
      "|      1|                0|\n",
      "|    231|                0|\n",
      "|    447|                0|\n",
      "+-------+-----------------+\n",
      "only showing top 7 rows\n",
      "\n"
     ]
    }
   ],
   "source": [
    "df = df.withColumn(\"blc more than 500\", (df[\"balance\"] > 500).cast(\"int\"))\n",
    "df.select(\"balance\", \"blc more than 500\").show(7)\n"
   ]
  },
  {
   "cell_type": "code",
   "execution_count": null,
   "id": "1d8d0de8",
   "metadata": {},
   "outputs": [
    {
     "name": "stdout",
     "output_type": "stream",
     "text": [
      "+---+-----------+--------+\n",
      "|age|        job|duration|\n",
      "+---+-----------+--------+\n",
      "| 59| technician|    4918|\n",
      "| 59| management|    3881|\n",
      "| 45|   services|    3785|\n",
      "| 37|blue-collar|    3422|\n",
      "| 45|blue-collar|    3366|\n",
      "+---+-----------+--------+\n",
      "only showing top 5 rows\n",
      "\n"
     ]
    }
   ],
   "source": [
    "df.select(\"age\", \"job\", \"duration\").orderBy(\"duration\", ascending=False).show(5)\n"
   ]
  },
  {
   "cell_type": "code",
   "execution_count": null,
   "id": "571c5200",
   "metadata": {},
   "outputs": [
    {
     "name": "stdout",
     "output_type": "stream",
     "text": [
      "+-------+-------+\n",
      "|min_age|max_age|\n",
      "+-------+-------+\n",
      "|     18|     95|\n",
      "+-------+-------+\n",
      "\n",
      "+-----------+-----------+\n",
      "|min_balance|max_balance|\n",
      "+-----------+-----------+\n",
      "|      -8019|     102127|\n",
      "+-----------+-----------+\n",
      "\n",
      "+------------+------------+\n",
      "|min_duration|max_duration|\n",
      "+------------+------------+\n",
      "|           0|        4918|\n",
      "+------------+------------+\n",
      "\n",
      "+------------+------------+\n",
      "|min_campaign|max_campaign|\n",
      "+------------+------------+\n",
      "|           1|          63|\n",
      "+------------+------------+\n",
      "\n"
     ]
    }
   ],
   "source": [
    "numerical_cols = ['age', 'balance', 'duration', 'campaign']\n",
    "\n",
    "for col_name in numerical_cols:\n",
    "    df.selectExpr(f\"min({col_name}) as min_{col_name}\", f\"max({col_name}) as max_{col_name}\").show()\n"
   ]
  },
  {
   "cell_type": "code",
   "execution_count": null,
   "id": "7aeee77c",
   "metadata": {},
   "outputs": [
    {
     "name": "stdout",
     "output_type": "stream",
     "text": [
      "Yes responses: 5289, No responses: 39922\n"
     ]
    }
   ],
   "source": [
    "yes_count = df.filter(df[\"y\"] == \"yes\").count()\n",
    "no_count = df.filter(df[\"y\"] == \"no\").count()\n",
    "print(f\"Yes responses: {yes_count}, No responses: {no_count}\")\n"
   ]
  },
  {
   "cell_type": "code",
   "execution_count": null,
   "id": "a57aca9c",
   "metadata": {},
   "outputs": [
    {
     "name": "stdout",
     "output_type": "stream",
     "text": [
      "+---------+------------+\n",
      "|  contact|avg_duration|\n",
      "+---------+------------+\n",
      "|  unknown|      252.34|\n",
      "| cellular|      263.01|\n",
      "|telephone|      235.37|\n",
      "+---------+------------+\n",
      "\n"
     ]
    }
   ],
   "source": [
    "from pyspark.sql.functions import round, avg\n",
    "\n",
    "df.groupBy(\"contact\").agg(round(avg(\"duration\"), 2).alias(\"avg_duration\")).show()\n"
   ]
  },
  {
   "cell_type": "code",
   "execution_count": null,
   "id": "1742d265",
   "metadata": {},
   "outputs": [
    {
     "data": {
      "image/png": "[encoded data removed]",
      "text/plain": [
       "<Figure size 600x500 with 1 Axes>"
      ]
     },
     "metadata": {},
     "output_type": "display_data"
    }
   ],
   "source": [
    "import matplotlib.pyplot as plt\n",
    "import seaborn as sns\n",
    "\n",
    "pdf = df.select(\"loan\", \"balance\").sample(fraction=0.1, seed=1).toPandas()\n",
    "\n",
    "plt.figure(figsize=(6, 5))\n",
    "sns.boxplot(data=pdf, x=\"loan\", y=\"balance\")\n",
    "plt.title(\"Balance Distribution by Personal Loan Status\")\n",
    "plt.tight_layout()\n",
    "plt.show()\n"
   ]
  },
  {
   "cell_type": "code",
   "execution_count": null,
   "id": "3245557a",
   "metadata": {},
   "outputs": [
    {
     "data": {
      "image/png": "[encoded data removed]",
      "text/plain": [
       "<Figure size 700x500 with 1 Axes>"
      ]
     },
     "metadata": {},
     "output_type": "display_data"
    }
   ],
   "source": [
    "marital_pdf = df.groupBy(\"marital\").avg(\"balance\").toPandas()\n",
    "\n",
    "plt.figure(figsize=(7, 5))\n",
    "sns.barplot(data=marital_pdf, x=\"marital\", y=\"avg(balance)\")\n",
    "plt.title(\"Average Balance by Marital Status\")\n",
    "plt.ylabel(\"Average Balance\")\n",
    "plt.show()\n"
   ]
  },
  {
   "cell_type": "code",
   "execution_count": null,
   "id": "9dae04c5",
   "metadata": {},
   "outputs": [
    {
     "data": {
      "image/png": "[encoded data removed]",
      "text/plain": [
       "<Figure size 600x600 with 1 Axes>"
      ]
     },
     "metadata": {},
     "output_type": "display_data"
    }
   ],
   "source": [
    "contact_pdf = df.groupBy(\"contact\").avg(\"duration\").toPandas()\n",
    "plt.figure(figsize=(6, 6))\n",
    "plt.pie(contact_pdf[\"avg(duration)\"], labels=contact_pdf[\"contact\"], autopct='%1.1f%%')\n",
    "plt.title(\"Share of Average Duration by Contact Type\")\n",
    "plt.show()\n"
   ]
  },
  {
   "cell_type": "code",
   "execution_count": null,
   "id": "847c9af8",
   "metadata": {},
   "outputs": [],
   "source": []
  }
 ],
 "metadata": {
  "kernelspec": {
   "display_name": "Python 3",
   "language": "python",
   "name": "python3"
  },
  "language_info": {
   "codemirror_mode": {
    "name": "ipython",
    "version": 3
   },
   "file_extension": ".py",
   "mimetype": "text/x-python",
   "name": "python",
   "nbconvert_exporter": "python",
   "pygments_lexer": "ipython3",
   "version": "3.11.5"
  }
 },
 "nbformat": 4,
 "nbformat_minor": 5
}
